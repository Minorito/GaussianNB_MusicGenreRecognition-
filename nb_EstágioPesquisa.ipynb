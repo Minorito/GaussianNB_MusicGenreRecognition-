{
  "nbformat": 4,
  "nbformat_minor": 0,
  "metadata": {
    "colab": {
      "provenance": [],
      "authorship_tag": "ABX9TyMZnmr7Vxibu6ErnibsRM8X",
      "include_colab_link": true
    },
    "kernelspec": {
      "name": "python3",
      "display_name": "Python 3"
    },
    "language_info": {
      "name": "python"
    }
  },
  "cells": [
    {
      "cell_type": "markdown",
      "metadata": {
        "id": "view-in-github",
        "colab_type": "text"
      },
      "source": [
        "<a href=\"https://colab.research.google.com/github/Minorito/GaussianNB_MusicGenreRecognition-/blob/main/nb_Est%C3%A1gioPesquisa.ipynb\" target=\"_parent\"><img src=\"https://colab.research.google.com/assets/colab-badge.svg\" alt=\"Open In Colab\"/></a>"
      ]
    },
    {
      "cell_type": "code",
      "execution_count": null,
      "metadata": {
        "id": "kBdnm7VsyNJ0"
      },
      "outputs": [],
      "source": [
        "import os\n",
        "import numpy as np\n",
        "import pandas as pd\n",
        "import matplotlib.pyplot as plt\n",
        "from matplotlib import cm, colors\n",
        "from matplotlib.colors import ListedColormap\n",
        "%matplotlib inline\n",
        "import seaborn as sns\n",
        "sns.set_style('whitegrid')\n",
        "import warnings\n",
        "warnings.filterwarnings('ignore')\n",
        "from scipy.stats import uniform, randint, mode\n",
        "import tensorflow as tf\n",
        "import tensorflow.python.keras as k\n",
        "from keras.wrappers.scikit_learn import KerasClassifier\n",
        "from sklearn.naive_bayes import GaussianNB\n",
        "from sklearn.ensemble import AdaBoostClassifier, GradientBoostingClassifier, RandomForestClassifier\n",
        "from sklearn.model_selection import train_test_split, KFold, StratifiedKFold\n",
        "from sklearn.preprocessing import minmax_scale, MinMaxScaler, LabelEncoder, StandardScaler\n",
        "from sklearn.metrics import accuracy_score, confusion_matrix, classification_report\n",
        "from keras.callbacks import EarlyStopping, ModelCheckpoint\n",
        "import librosa, IPython\n",
        "from IPython.display import display\n",
        "import librosa.display\n",
        "from tqdm import tqdm\n",
        "import random\n",
        "from sklearn.model_selection import KFold"
      ]
    },
    {
      "cell_type": "code",
      "source": [
        "seed = 42\n",
        "random.seed = seed\n",
        "np.random.seed(seed)\n",
        "tf.random.set_seed(seed)"
      ],
      "metadata": {
        "id": "xuTSNjuZ0gSc"
      },
      "execution_count": null,
      "outputs": []
    },
    {
      "cell_type": "code",
      "source": [
        "from google.colab import drive\n",
        "drive.mount('/content/drive/')"
      ],
      "metadata": {
        "colab": {
          "base_uri": "https://localhost:8080/"
        },
        "id": "JYJob2jnzRAq",
        "outputId": "9e63dac3-293f-4800-89fb-b97d81b3799b"
      },
      "execution_count": null,
      "outputs": [
        {
          "output_type": "stream",
          "name": "stdout",
          "text": [
            "Drive already mounted at /content/drive/; to attempt to forcibly remount, call drive.mount(\"/content/drive/\", force_remount=True).\n"
          ]
        }
      ]
    },
    {
      "cell_type": "code",
      "source": [
        "data = pd.read_csv('/content/drive/My Drive/musicas/datasets/Data/features_3_sec.csv')\n",
        "print(\"Dataset has\", data.shape)\n",
        "data.head()\n",
        "genres = [\"blues\", \"classical\", \"country\", \"disco\", \"hiphop\", \"jazz\", \"metal\", \"pop\", \"reggae\", \"rock\"]"
      ],
      "metadata": {
        "colab": {
          "base_uri": "https://localhost:8080/"
        },
        "id": "y4neCgaWzHW7",
        "outputId": "43e492de-3e61-4b9c-b75f-6e32e3776795"
      },
      "execution_count": null,
      "outputs": [
        {
          "output_type": "stream",
          "name": "stdout",
          "text": [
            "Dataset has (9990, 60)\n"
          ]
        }
      ]
    },
    {
      "cell_type": "code",
      "source": [
        "label_encoder = LabelEncoder()\n",
        "labels = data['label']\n",
        "label_encoder.fit(labels)\n",
        "data.insert(60, 'label_id', 9999)\n",
        "data.insert(1, 'filename_full', '')\n",
        "for i in range(len(data)):\n",
        "    label = data.loc[i,'label']\n",
        "    label_id =label_encoder.transform([label])\n",
        "    data.loc[i,'label_id']=label_id.item()\n",
        "    data.loc[i,'filename_full']=str(data.loc[i,'filename']).split('.')[0]+\".\"+str(data.loc[i,'filename']).split('.')[1]+\".\"+str(data.loc[i,'filename']).split('.')[3]\n",
        "data['label_id']=data['label_id'].astype(int)"
      ],
      "metadata": {
        "id": "j89VyhY1zh5a"
      },
      "execution_count": null,
      "outputs": []
    },
    {
      "cell_type": "code",
      "source": [
        "X_full = data.drop(['filename','filename_full', 'length','label', 'label_id'], axis = 1)\n",
        "y_full = data['label_id'].astype('int')\n",
        "X_train, X_test, y_train, y_test = train_test_split(X_full, y_full, test_size=0.3, random_state = seed, shuffle = True)\n",
        "scaler = StandardScaler()\n",
        "X_train = pd.DataFrame(scaler.fit_transform(X_train), columns=X_train.columns)\n",
        "X_test = pd.DataFrame(scaler.transform(X_test), columns=X_test.columns)"
      ],
      "metadata": {
        "id": "hWH2Y-gUzltj"
      },
      "execution_count": null,
      "outputs": []
    },
    {
      "cell_type": "code",
      "source": [
        "acc_per_fold = []\n",
        "loss_per_fold = []\n",
        "num_folds = 10\n",
        "fold_no = 1"
      ],
      "metadata": {
        "id": "AlD4Q9Wx3uzi"
      },
      "execution_count": null,
      "outputs": []
    },
    {
      "cell_type": "code",
      "source": [
        "inputs = np.concatenate((X_train, X_test), axis=0)\n",
        "targets = np.concatenate((y_train, y_test), axis=0)"
      ],
      "metadata": {
        "id": "6HfyEA8a31hc"
      },
      "execution_count": null,
      "outputs": []
    },
    {
      "cell_type": "code",
      "source": [
        "kfold = KFold(n_splits=num_folds, shuffle=True)"
      ],
      "metadata": {
        "id": "VyZsUnF63iiS"
      },
      "execution_count": null,
      "outputs": []
    },
    {
      "cell_type": "code",
      "source": [
        "for train, test in kfold.split(inputs, targets):\n",
        "    model = GaussianNB()\n",
        "\n",
        "    print('------------------------------------------------------------------------')\n",
        "    print(f'Training for fold {fold_no} ...')\n",
        "    model.fit(inputs[train],targets[train])\n",
        "    \n",
        "    acc_per_fold.append(model.score(inputs[test], targets[test]) * 100)\n",
        "    loss_per_fold.append(model.score(inputs[test], targets[test]))\n",
        "\n",
        "    fold_no = fold_no + 1\n",
        "    \n"
      ],
      "metadata": {
        "id": "2HiNIUNW0tCc",
        "colab": {
          "base_uri": "https://localhost:8080/"
        },
        "outputId": "10348bb7-1818-4a3b-87fb-1ff000e6b4de"
      },
      "execution_count": null,
      "outputs": [
        {
          "output_type": "stream",
          "name": "stdout",
          "text": [
            "------------------------------------------------------------------------\n",
            "Training for fold 1 ...\n",
            "------------------------------------------------------------------------\n",
            "Training for fold 2 ...\n",
            "------------------------------------------------------------------------\n",
            "Training for fold 3 ...\n",
            "------------------------------------------------------------------------\n",
            "Training for fold 4 ...\n",
            "------------------------------------------------------------------------\n",
            "Training for fold 5 ...\n",
            "------------------------------------------------------------------------\n",
            "Training for fold 6 ...\n",
            "------------------------------------------------------------------------\n",
            "Training for fold 7 ...\n",
            "------------------------------------------------------------------------\n",
            "Training for fold 8 ...\n",
            "------------------------------------------------------------------------\n",
            "Training for fold 9 ...\n",
            "------------------------------------------------------------------------\n",
            "Training for fold 10 ...\n"
          ]
        }
      ]
    },
    {
      "cell_type": "code",
      "source": [
        "    print('------------------------------------------------------------------------')\n",
        "    print('Score per fold')\n",
        "    for i in range(0, len(acc_per_fold)):\n",
        "      print('------------------------------------------------------------------------')\n",
        "      print(f'> Fold {i+1} - Loss: {loss_per_fold[i]} - Accuracy: {acc_per_fold[i]}%')\n",
        "\n",
        "    print('------------------------------------------------------------------------')\n",
        "    print('Average scores for all folds:')\n",
        "    print(f'> Accuracy: {np.mean(acc_per_fold)} (+- {np.std(acc_per_fold)})')\n",
        "    print(f'> Loss: {np.mean(loss_per_fold)}')\n",
        "    print('------------------------------------------------------------------------')    "
      ],
      "metadata": {
        "colab": {
          "base_uri": "https://localhost:8080/"
        },
        "id": "gV9gLDNT7evQ",
        "outputId": "2e9e3ae8-2a53-449a-fedc-fc71287175fd"
      },
      "execution_count": null,
      "outputs": [
        {
          "output_type": "stream",
          "name": "stdout",
          "text": [
            "------------------------------------------------------------------------\n",
            "Score per fold\n",
            "------------------------------------------------------------------------\n",
            "> Fold 1 - Loss: 0.5125125125125125 - Accuracy: 51.25125125125125%\n",
            "------------------------------------------------------------------------\n",
            "> Fold 2 - Loss: 0.5205205205205206 - Accuracy: 52.052052052052055%\n",
            "------------------------------------------------------------------------\n",
            "> Fold 3 - Loss: 0.5525525525525525 - Accuracy: 55.25525525525525%\n",
            "------------------------------------------------------------------------\n",
            "> Fold 4 - Loss: 0.4924924924924925 - Accuracy: 49.249249249249246%\n",
            "------------------------------------------------------------------------\n",
            "> Fold 5 - Loss: 0.5295295295295295 - Accuracy: 52.95295295295295%\n",
            "------------------------------------------------------------------------\n",
            "> Fold 6 - Loss: 0.5065065065065065 - Accuracy: 50.650650650650654%\n",
            "------------------------------------------------------------------------\n",
            "> Fold 7 - Loss: 0.5195195195195195 - Accuracy: 51.95195195195195%\n",
            "------------------------------------------------------------------------\n",
            "> Fold 8 - Loss: 0.5205205205205206 - Accuracy: 52.052052052052055%\n",
            "------------------------------------------------------------------------\n",
            "> Fold 9 - Loss: 0.5275275275275275 - Accuracy: 52.752752752752755%\n",
            "------------------------------------------------------------------------\n",
            "> Fold 10 - Loss: 0.5095095095095095 - Accuracy: 50.95095095095095%\n",
            "------------------------------------------------------------------------\n",
            "Average scores for all folds:\n",
            "> Accuracy: 51.91191191191191 (+- 1.5182251843561)\n",
            "> Loss: 0.5191191191191191\n",
            "------------------------------------------------------------------------\n"
          ]
        }
      ]
    },
    {
      "cell_type": "code",
      "source": [
        "y_pred_test = model.predict(inputs[test])\n",
        "cm = confusion_matrix(targets[test], y_pred_test)\n",
        "plt.figure(figsize = (20, 10))\n",
        "sns.heatmap(cm, cmap=\"flare\", annot=True, xticklabels = genres, yticklabels= genres);\n",
        "plt.show()"
      ],
      "metadata": {
        "colab": {
          "base_uri": "https://localhost:8080/",
          "height": 592
        },
        "id": "T4OWmz_O00Q9",
        "outputId": "ed6ef86d-4049-4a6c-dabe-8c54853481c7"
      },
      "execution_count": null,
      "outputs": [
        {
          "output_type": "display_data",
          "data": {
            "text/plain": [
              "<Figure size 1440x720 with 2 Axes>"
            ],
            "image/png": "[encoded data removed]"
          },
          "metadata": {}
        }
      ]
    },
    {
      "cell_type": "code",
      "source": [
        "matriz_total= np.sum(cm)\n",
        "print(f'Soma de todos elementos da matriz {matriz_total}')\n",
        "\n",
        "n = 10\n",
        "\n",
        "diagonal_principal = sum(cm[i][i] for i in range(n))\n",
        "print(f'Soma diagonal principal {diagonal_principal}')\n",
        "\n",
        "print(f'Matriz Confusão: {(diagonal_principal/matriz_total)*100}%')"
      ],
      "metadata": {
        "colab": {
          "base_uri": "https://localhost:8080/"
        },
        "id": "r5XE_ULbqvim",
        "outputId": "5323a778-f0ae-4a89-e8e5-36ebdabf1479"
      },
      "execution_count": null,
      "outputs": [
        {
          "output_type": "stream",
          "name": "stdout",
          "text": [
            "Soma de todos elementos da matriz 999\n",
            "Soma diagonal principal 509\n",
            "Matriz Confusão: 50.95095095095095%\n"
          ]
        }
      ]
    },
    {
      "cell_type": "code",
      "source": [
        "print(classification_report(targets[test], y_pred_test, digits=3, target_names=genres))"
      ],
      "metadata": {
        "colab": {
          "base_uri": "https://localhost:8080/"
        },
        "id": "qrJnTB2WV31_",
        "outputId": "59b98da2-e79b-433b-d677-542586f455cf"
      },
      "execution_count": null,
      "outputs": [
        {
          "output_type": "stream",
          "name": "stdout",
          "text": [
            "              precision    recall  f1-score   support\n",
            "\n",
            "       blues      0.561     0.311     0.400       103\n",
            "   classical      0.742     0.911     0.818       101\n",
            "     country      0.375     0.553     0.447       103\n",
            "       disco      0.444     0.291     0.352       110\n",
            "      hiphop      0.564     0.320     0.408        97\n",
            "        jazz      0.700     0.396     0.506       106\n",
            "       metal      0.405     0.900     0.559        90\n",
            "         pop      0.630     0.806     0.708        93\n",
            "      reggae      0.505     0.468     0.486       109\n",
            "        rock      0.271     0.184     0.219        87\n",
            "\n",
            "    accuracy                          0.510       999\n",
            "   macro avg      0.520     0.514     0.490       999\n",
            "weighted avg      0.523     0.510     0.490       999\n",
            "\n"
          ]
        }
      ]
    }
  ]
}